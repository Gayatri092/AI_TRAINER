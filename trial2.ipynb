{
 "cells": [
  {
   "cell_type": "code",
   "execution_count": 1,
   "id": "c918fa73-7a6f-4dc6-8fb2-3672b8c7e3a8",
   "metadata": {},
   "outputs": [],
   "source": [
    "import pandas as pd\n",
    "import numpy as np\n",
    "from sklearn.preprocessing import StandardScaler\n",
    "from sklearn.model_selection import train_test_split\n",
    "from sklearn.ensemble import RandomForestClassifier\n",
    "from sklearn.metrics import classification_report, accuracy_score\n",
    "import joblib\n",
    "\n"
   ]
  },
  {
   "cell_type": "code",
   "execution_count": 2,
   "id": "bcb94052-0cc6-4559-b6c2-7d8e46932f6b",
   "metadata": {},
   "outputs": [
    {
     "name": "stdout",
     "output_type": "stream",
     "text": [
      "Combined DataFrame shape: (1630286, 36)\n"
     ]
    }
   ],
   "source": [
    "# Load datasets with default dtypes (you can specify dtypes later if needed)\n",
    "gym_members_df = pd.read_csv('gym_members_exercise_tracking.csv')\n",
    "workout_tracker_df = pd.read_csv('workout_fitness_tracker_data.csv')\n",
    "\n",
    "# Fast vectorized text cleaning function for workout columns\n",
    "def fast_clean_text(series):\n",
    "    return (series.str.lower()\n",
    "                  .str.strip()\n",
    "                  .str.replace('[-_]', ' ', regex=True)\n",
    "                  .str.replace('[^a-z0-9 ]', '', regex=True)\n",
    "                  .str.replace(r'\\s+', ' ', regex=True))\n",
    "\n",
    "gym_members_df['workout_clean'] = fast_clean_text(gym_members_df['Workout_Type'])\n",
    "workout_tracker_df['workout_clean'] = fast_clean_text(workout_tracker_df['Workout Type'])\n",
    "\n",
    "# Convert keys to categorical type for faster merge\n",
    "gym_members_df['workout_clean'] = gym_members_df['workout_clean'].astype('category')\n",
    "workout_tracker_df['workout_clean'] = workout_tracker_df['workout_clean'].astype('category')\n",
    "\n",
    "# Merge datasets on cleaned workout names (inner join)\n",
    "combined_df = pd.merge(\n",
    "    gym_members_df,\n",
    "    workout_tracker_df,\n",
    "    on='workout_clean',\n",
    "    how='inner',\n",
    "    suffixes=('_gym', '_tracker'),\n",
    "    copy=False\n",
    ")\n",
    "\n",
    "print(f\"Combined DataFrame shape: {combined_df.shape}\")\n",
    "\n"
   ]
  },
  {
   "cell_type": "code",
   "execution_count": 3,
   "id": "2f9d97de-a798-4519-8f51-688981538f1c",
   "metadata": {},
   "outputs": [
    {
     "name": "stdout",
     "output_type": "stream",
     "text": [
      "Using features (14): ['Age_gym', 'Gender_gym', 'Weight (kg)_gym', 'Height (m)', 'Max_BPM', 'Avg_BPM', 'Resting_BPM', 'Session_Duration (hours)', 'Workout Duration (mins)', 'Calories Burned', 'Heart Rate (bpm)', 'Steps Taken', 'Distance (km)', 'Workout Intensity']\n",
      "Using 'Experience_Level' as target\n"
     ]
    }
   ],
   "source": [
    "# Fill missing values safely\n",
    "\n",
    "# Separate numerical and categorical columns\n",
    "num_cols = combined_df.select_dtypes(include=[np.number]).columns.tolist()\n",
    "cat_cols = combined_df.select_dtypes(include=['category', 'object']).columns.tolist()\n",
    "\n",
    "# Fill numerical columns with median\n",
    "for col in num_cols:\n",
    "    median_val = combined_df[col].median()\n",
    "    combined_df[col] = combined_df[col].fillna(median_val)\n",
    "\n",
    "# Fill categorical columns with 'missing' category\n",
    "import pandas as pd\n",
    "\n",
    "for col in cat_cols:\n",
    "    if isinstance(combined_df[col].dtype, pd.CategoricalDtype):\n",
    "        combined_df[col] = combined_df[col].cat.add_categories(['missing'])\n",
    "    combined_df[col] = combined_df[col].fillna('missing')\n",
    "\n",
    "\n",
    "# Define features and target columns\n",
    "feature_cols = [\n",
    "    'Age_gym', 'Gender_gym', 'Weight (kg)_gym', 'Height (m)', 'Calories_Burned_gym',\n",
    "    'Max_BPM', 'Avg_BPM', 'Resting_BPM', 'Session_Duration (hours)',\n",
    "    'Workout Duration (mins)', 'Calories Burned', 'Heart Rate (bpm)', 'Steps Taken',\n",
    "    'Distance (km)', 'Workout Intensity'\n",
    "]\n",
    "\n",
    "# Keep only features present in combined_df\n",
    "feature_cols = [f for f in feature_cols if f in combined_df.columns]\n",
    "print(f\"Using features ({len(feature_cols)}): {feature_cols}\")\n",
    "\n",
    "X = combined_df[feature_cols].copy()\n",
    "\n",
    "# Select target column\n",
    "if 'Experience_Level' in combined_df.columns:\n",
    "    y = combined_df['Experience_Level']\n",
    "    print(\"Using 'Experience_Level' as target\")\n",
    "elif 'Workout Intensity' in combined_df.columns:\n",
    "    y = combined_df['Workout Intensity']\n",
    "    print(\"Using 'Workout Intensity' as target\")\n",
    "else:\n",
    "    raise ValueError(\"No target column found! Please check your dataset.\")\n",
    "\n"
   ]
  },
  {
   "cell_type": "code",
   "execution_count": 4,
   "id": "5d262568-9384-4522-9898-2613d2487437",
   "metadata": {},
   "outputs": [
    {
     "name": "stdout",
     "output_type": "stream",
     "text": [
      "Categorical encoding completed:\n",
      "   Gender_gym  Workout Intensity\n",
      "0           1                  1\n",
      "1           1                  1\n",
      "2           1                  0\n",
      "3           1                  2\n",
      "4           1                  0\n"
     ]
    }
   ],
   "source": [
    "categorical_cols = ['Gender_gym', 'Workout Intensity']\n",
    "\n",
    "for col in categorical_cols:\n",
    "    if col in X.columns:\n",
    "        # Use pandas categorical codes (fast and efficient)\n",
    "        X[col] = X[col].astype('category').cat.codes\n",
    "\n",
    "print(\"Categorical encoding completed:\")\n",
    "print(X[categorical_cols].head())\n"
   ]
  },
  {
   "cell_type": "code",
   "execution_count": 5,
   "id": "45bc0ab2-b8a8-41fc-b934-05d11c7feeb5",
   "metadata": {},
   "outputs": [
    {
     "name": "stdout",
     "output_type": "stream",
     "text": [
      "Numerical features to scale (12): ['Age_gym', 'Weight (kg)_gym', 'Height (m)', 'Max_BPM', 'Avg_BPM', 'Resting_BPM', 'Session_Duration (hours)', 'Workout Duration (mins)', 'Calories Burned', 'Heart Rate (bpm)', 'Steps Taken', 'Distance (km)']\n",
      "Numerical features scaled:\n",
      "    Age_gym  Weight (kg)_gym  Height (m)   Max_BPM   Avg_BPM  Resting_BPM  \\\n",
      "0  1.421873          0.68135   -0.098365  0.009916  0.923101    -0.304181   \n",
      "1  1.421873          0.68135   -0.098365  0.009916  0.923101    -0.304181   \n",
      "2  1.421873          0.68135   -0.098365  0.009916  0.923101    -0.304181   \n",
      "3  1.421873          0.68135   -0.098365  0.009916  0.923101    -0.304181   \n",
      "4  1.421873          0.68135   -0.098365  0.009916  0.923101    -0.304181   \n",
      "\n",
      "   Session_Duration (hours)  Workout Duration (mins)  Calories Burned  \\\n",
      "0                   1.26396                -1.690771        -0.958635   \n",
      "1                   1.26396                -1.059319        -0.993016   \n",
      "2                   1.26396                -0.459440        -0.339777   \n",
      "3                   1.26396                -0.143714         0.840636   \n",
      "4                   1.26396                 0.803464         0.508286   \n",
      "\n",
      "   Heart Rate (bpm)  Steps Taken  Distance (km)  \n",
      "0          0.429561     0.076714      -0.307346  \n",
      "1          0.602250    -1.274786       1.360637  \n",
      "2         -1.539101    -0.141946      -1.412146  \n",
      "3          1.534774    -0.940966       0.670437  \n",
      "4          0.947630     1.448986       0.430784  \n"
     ]
    }
   ],
   "source": [
    "numerical_cols = [col for col in feature_cols if col not in categorical_cols]\n",
    "print(f\"Numerical features to scale ({len(numerical_cols)}): {numerical_cols}\")\n",
    "\n",
    "scaler = StandardScaler()\n",
    "X[numerical_cols] = scaler.fit_transform(X[numerical_cols])\n",
    "\n",
    "print(\"Numerical features scaled:\")\n",
    "print(X[numerical_cols].head())\n"
   ]
  },
  {
   "cell_type": "code",
   "execution_count": 6,
   "id": "fd27b610-6541-4d52-b085-2afd52fbe983",
   "metadata": {},
   "outputs": [
    {
     "name": "stdout",
     "output_type": "stream",
     "text": [
      "Train shape: (1304228, 14), Test shape: (326058, 14)\n",
      "Test accuracy: 1.0000\n",
      "Classification report:\n",
      "               precision    recall  f1-score   support\n",
      "\n",
      "           1       1.00      1.00      1.00    125950\n",
      "           2       1.00      1.00      1.00    136005\n",
      "           3       1.00      1.00      1.00     64103\n",
      "\n",
      "    accuracy                           1.00    326058\n",
      "   macro avg       1.00      1.00      1.00    326058\n",
      "weighted avg       1.00      1.00      1.00    326058\n",
      "\n"
     ]
    }
   ],
   "source": [
    "# Encode target variable if categorical\n",
    "if y.dtype == 'object' or str(y.dtype) == 'category':\n",
    "    y = y.astype('category').cat.codes\n",
    "\n",
    "# Train-test split with stratification\n",
    "X_train, X_test, y_train, y_test = train_test_split(\n",
    "    X, y, test_size=0.2, random_state=42, stratify=y\n",
    ")\n",
    "\n",
    "print(f\"Train shape: {X_train.shape}, Test shape: {X_test.shape}\")\n",
    "\n",
    "# Train Random Forest model\n",
    "model = RandomForestClassifier(n_estimators=200, random_state=42, n_jobs=-1)\n",
    "model.fit(X_train, y_train)\n",
    "\n",
    "# Predict and evaluate\n",
    "y_pred = model.predict(X_test)\n",
    "print(f\"Test accuracy: {accuracy_score(y_test, y_pred):.4f}\")\n",
    "print(\"Classification report:\\n\", classification_report(y_test, y_pred))\n"
   ]
  },
  {
   "cell_type": "code",
   "execution_count": 7,
   "id": "c9ed2fe5-0a02-41d1-9a61-658603438cb6",
   "metadata": {},
   "outputs": [
    {
     "name": "stdout",
     "output_type": "stream",
     "text": [
      "Saving model, scaler, and category mappings...\n",
      "Model, scaler, and category mappings saved successfully.\n"
     ]
    }
   ],
   "source": [
    "# Cell 7: Save Model, Scaler, and Category Mappings\n",
    "print(\"Saving model, scaler, and category mappings...\")\n",
    "\n",
    "joblib.dump(model, 'rf_experience_level_model.joblib')\n",
    "joblib.dump(scaler, 'feature_scaler.joblib')\n",
    "\n",
    "# Save category mappings for decoding later (optional)\n",
    "category_mappings = {}\n",
    "for col in categorical_cols:\n",
    "    if col in X.columns:\n",
    "        category_mappings[col] = X[col].astype('category').cat.categories.tolist()\n",
    "joblib.dump(category_mappings, 'category_mappings.joblib')\n",
    "\n",
    "print(\"Model, scaler, and category mappings saved successfully.\")\n"
   ]
  },
  {
   "cell_type": "code",
   "execution_count": 8,
   "id": "bd2de939-5790-481f-8fc1-bc64819c2d6c",
   "metadata": {},
   "outputs": [
    {
     "name": "stdout",
     "output_type": "stream",
     "text": [
      "Predicted encoded class: 2\n"
     ]
    }
   ],
   "source": [
    "import joblib\n",
    "import pandas as pd\n",
    "\n",
    "# Load saved objects\n",
    "model = joblib.load('rf_experience_level_model.joblib')\n",
    "scaler = joblib.load('feature_scaler.joblib')\n",
    "category_mappings = joblib.load('category_mappings.joblib')\n",
    "\n",
    "# The feature columns used during training — must match your original training setup\n",
    "feature_cols = [\n",
    "    'Age_gym', 'Gender_gym', 'Weight (kg)_gym', 'Height (m)', 'Max_BPM', 'Avg_BPM',\n",
    "    'Resting_BPM', 'Session_Duration (hours)', 'Workout Duration (mins)', \n",
    "    'Calories Burned', 'Heart Rate (bpm)', 'Steps Taken', 'Distance (km)', \n",
    "    'Workout Intensity'\n",
    "]\n",
    "\n",
    "categorical_cols = ['Gender_gym', 'Workout Intensity']\n",
    "\n",
    "# Define new sample ONLY with the features used for model / scaler training\n",
    "new_sample = {\n",
    "    'Age_gym': 30,\n",
    "    'Gender_gym': 'male',           # categorical\n",
    "    'Weight (kg)_gym': 75,\n",
    "    'Height (m)': 1.75,\n",
    "    'Max_BPM': 160,\n",
    "    'Avg_BPM': 140,\n",
    "    'Resting_BPM': 70,\n",
    "    'Session_Duration (hours)': 1,\n",
    "    'Workout Duration (mins)': 60,\n",
    "    'Calories Burned': 450,\n",
    "    'Heart Rate (bpm)': 138,\n",
    "    'Steps Taken': 8000,\n",
    "    'Distance (km)': 6.0,\n",
    "    'Workout Intensity': 'medium'   # categorical\n",
    "}\n",
    "\n",
    "# Create the DataFrame in the exact same column order\n",
    "df_sample = pd.DataFrame([new_sample], columns=feature_cols)\n",
    "\n",
    "# Encode categorical columns using saved category mappings\n",
    "for col in categorical_cols:\n",
    "    if col in df_sample.columns:\n",
    "        categories = category_mappings.get(col, [])\n",
    "        df_sample[col] = df_sample[col].apply(lambda x: categories.index(x) if x in categories else -1)\n",
    "\n",
    "# Separate numerical columns (features excluding categorical)\n",
    "numerical_cols = [col for col in feature_cols if col not in categorical_cols]\n",
    "\n",
    "# Now transform numerical features — this must match scaler.fit features exactly\n",
    "df_sample[numerical_cols] = scaler.transform(df_sample[numerical_cols])\n",
    "\n",
    "# Predict\n",
    "predicted_code = model.predict(df_sample)[0]\n",
    "print(f\"Predicted encoded class: {predicted_code}\")\n"
   ]
  },
  {
   "cell_type": "code",
   "execution_count": 9,
   "id": "8cc82619-7fea-48fe-bba6-be8518978a0b",
   "metadata": {},
   "outputs": [
    {
     "name": "stdout",
     "output_type": "stream",
     "text": [
      "Test Accuracy: 1.0000\n",
      "Classification Report:\n",
      "              precision    recall  f1-score   support\n",
      "\n",
      "           1       1.00      1.00      1.00    125950\n",
      "           2       1.00      1.00      1.00    136005\n",
      "           3       1.00      1.00      1.00     64103\n",
      "\n",
      "    accuracy                           1.00    326058\n",
      "   macro avg       1.00      1.00      1.00    326058\n",
      "weighted avg       1.00      1.00      1.00    326058\n",
      "\n"
     ]
    },
    {
     "data": {
      "image/png": "[encoded data removed]",
      "text/plain": [
       "<Figure size 640x480 with 2 Axes>"
      ]
     },
     "metadata": {},
     "output_type": "display_data"
    },
    {
     "data": {
      "image/png": "[encoded data removed]",
      "text/plain": [
       "<Figure size 800x600 with 1 Axes>"
      ]
     },
     "metadata": {},
     "output_type": "display_data"
    }
   ],
   "source": [
    "import joblib\n",
    "from sklearn.metrics import accuracy_score, classification_report, confusion_matrix, ConfusionMatrixDisplay\n",
    "import matplotlib.pyplot as plt\n",
    "import pandas as pd\n",
    "\n",
    "# --- Step 1: Load the saved model and scaler ---\n",
    "model = joblib.load('rf_experience_level_model.joblib')\n",
    "scaler = joblib.load('feature_scaler.joblib')\n",
    "\n",
    "# Load category mappings (for categorical encoding)\n",
    "category_mappings = joblib.load('category_mappings.joblib')\n",
    "categorical_cols = ['Gender_gym', 'Workout Intensity']\n",
    "\n",
    "# --- Step 2: Prepare your test data ---\n",
    "\n",
    "# Assuming you have saved or have access to your test dataset (X_test_raw, y_test_raw)\n",
    "# If you only have combined_df and splitting was done previously in Cell 6,\n",
    "# re-run train_test_split to get X_test and y_test:\n",
    "\n",
    "from sklearn.model_selection import train_test_split\n",
    "\n",
    "# Re-load or access your full data and features (replace this as per your actual environment)\n",
    "# Example:\n",
    "# combined_df = pd.read_csv('your_combined_preprocessed_data.csv')  # If saved externally\n",
    "\n",
    "# Define feature columns exactly as in training\n",
    "feature_cols = [\n",
    "    'Age_gym', 'Gender_gym', 'Weight (kg)_gym', 'Height (m)', 'Calories_Burned_gym',\n",
    "    'Max_BPM', 'Avg_BPM', 'Resting_BPM', 'Session_Duration (hours)',\n",
    "    'Workout Duration (mins)', 'Calories Burned', 'Heart Rate (bpm)', 'Steps Taken',\n",
    "    'Distance (km)', 'Workout Intensity'\n",
    "]\n",
    "\n",
    "feature_cols = [f for f in feature_cols if f in combined_df.columns]\n",
    "\n",
    "# Define target column\n",
    "if 'Experience_Level' in combined_df.columns:\n",
    "    target_col = 'Experience_Level'\n",
    "elif 'Workout Intensity' in combined_df.columns:\n",
    "    target_col = 'Workout Intensity'\n",
    "else:\n",
    "    raise ValueError(\"No target column found!\")\n",
    "\n",
    "# Get X and y for test\n",
    "X_full = combined_df[feature_cols].copy()\n",
    "y_full = combined_df[target_col].copy()\n",
    "\n",
    "# Encode categorical columns in X_full same as training\n",
    "for col in categorical_cols:\n",
    "    if col in X_full.columns:\n",
    "        categories = category_mappings.get(col, [])\n",
    "        X_full[col] = X_full[col].astype(str).apply(lambda x: categories.index(x) if x in categories else -1)\n",
    "\n",
    "# Encode target if categorical\n",
    "if y_full.dtype == 'object' or str(y_full.dtype) == 'category':\n",
    "    y_full = y_full.astype('category').cat.codes\n",
    "\n",
    "# Split (same as training split ratios and seed to get same X_test and y_test)\n",
    "_, X_test, _, y_test = train_test_split(\n",
    "    X_full, y_full, test_size=0.2, random_state=42, stratify=y_full\n",
    ")\n",
    "\n",
    "# Scale numerical features in X_test\n",
    "numerical_cols = [col for col in feature_cols if col not in categorical_cols]\n",
    "X_test[numerical_cols] = scaler.transform(X_test[numerical_cols])\n",
    "\n",
    "# --- Step 3: Predict on test data ---\n",
    "y_pred = model.predict(X_test)\n",
    "\n",
    "# --- Step 4: Evaluate metrics ---\n",
    "\n",
    "# Accuracy\n",
    "acc = accuracy_score(y_test, y_pred)\n",
    "print(f\"Test Accuracy: {acc:.4f}\")\n",
    "\n",
    "# Classification report: precision, recall, f1-score per class\n",
    "print(\"Classification Report:\")\n",
    "print(classification_report(y_test, y_pred))\n",
    "\n",
    "# Confusion matrix plot\n",
    "cm = confusion_matrix(y_test, y_pred)\n",
    "disp = ConfusionMatrixDisplay(confusion_matrix=cm)\n",
    "disp.plot(cmap=plt.cm.Blues)\n",
    "plt.title(\"Confusion Matrix - Test Data\")\n",
    "plt.show()\n",
    "\n",
    "# --- Optional: Feature importance plot ---\n",
    "feature_importances = pd.Series(model.feature_importances_, index=feature_cols)\n",
    "feature_importances.sort_values().plot(kind='barh', figsize=(8,6))\n",
    "plt.title(\"Feature Importances\")\n",
    "plt.show()\n"
   ]
  },
  {
   "cell_type": "code",
   "execution_count": 10,
   "id": "836e738e-6dec-4806-afa9-2565f2ee56af",
   "metadata": {},
   "outputs": [
    {
     "name": "stdout",
     "output_type": "stream",
     "text": [
      "Number of duplicate rows in train and test: 0\n",
      "No duplicates found between train and test sets. No direct leakage here.\n"
     ]
    }
   ],
   "source": [
    "# Assuming you have your full dataset `combined_df` and your original train-test split\n",
    "\n",
    "from sklearn.model_selection import train_test_split\n",
    "\n",
    "# Define features and target as done previously\n",
    "feature_cols = [\n",
    "    'Age_gym', 'Gender_gym', 'Weight (kg)_gym', 'Height (m)', 'Calories_Burned_gym',\n",
    "    'Max_BPM', 'Avg_BPM', 'Resting_BPM', 'Session_Duration (hours)',\n",
    "    'Workout Duration (mins)', 'Calories Burned', 'Heart Rate (bpm)', 'Steps Taken',\n",
    "    'Distance (km)', 'Workout Intensity'\n",
    "]\n",
    "\n",
    "feature_cols = [f for f in feature_cols if f in combined_df.columns]\n",
    "\n",
    "if 'Experience_Level' in combined_df.columns:\n",
    "    target_col = 'Experience_Level'\n",
    "elif 'Workout Intensity' in combined_df.columns:\n",
    "    target_col = 'Workout Intensity'\n",
    "else:\n",
    "    raise ValueError(\"No target column found!\")\n",
    "\n",
    "X_full = combined_df[feature_cols].copy()\n",
    "y_full = combined_df[target_col].copy()\n",
    "\n",
    "# Encode categorical columns same as training\n",
    "categorical_cols = ['Gender_gym', 'Workout Intensity']\n",
    "for col in categorical_cols:\n",
    "    if col in X_full.columns:\n",
    "        categories = category_mappings.get(col, [])\n",
    "        X_full[col] = X_full[col].astype(str).apply(lambda x: categories.index(x) if x in categories else -1)\n",
    "\n",
    "# Encode target if categorical\n",
    "if y_full.dtype == 'object' or str(y_full.dtype) == 'category':\n",
    "    y_full = y_full.astype('category').cat.codes\n",
    "\n",
    "# Perform train-test split\n",
    "X_train, X_test, y_train, y_test = train_test_split(\n",
    "    X_full, y_full, test_size=0.2, stratify=y_full, random_state=42\n",
    ")\n",
    "\n",
    "# Check for duplicates in train and test sets\n",
    "train_test_intersection = pd.merge(\n",
    "    X_train.reset_index(),\n",
    "    X_test.reset_index(),\n",
    "    on=feature_cols,\n",
    "    how='inner',\n",
    "    suffixes=('_train', '_test')\n",
    ")\n",
    "\n",
    "print(f\"Number of duplicate rows in train and test: {len(train_test_intersection)}\")\n",
    "\n",
    "if len(train_test_intersection) == 0:\n",
    "    print(\"No duplicates found between train and test sets. No direct leakage here.\")\n",
    "else:\n",
    "    print(\"Duplicates found between train and test sets! Possible leakage.\")\n"
   ]
  },
  {
   "cell_type": "code",
   "execution_count": null,
   "id": "525a1d24-cb3e-4c60-899f-58d7ae5140f2",
   "metadata": {},
   "outputs": [],
   "source": [
    "from sklearn.model_selection import cross_val_score, StratifiedKFold\n",
    "from sklearn.ensemble import RandomForestClassifier\n",
    "import numpy as np\n",
    "\n",
    "# Using the previously prepared X_full and y_full (with categorical encoding done)\n",
    "\n",
    "clf = RandomForestClassifier(n_estimators=200, random_state=42, n_jobs=-1)\n",
    "\n",
    "# Stratified K-Fold to maintain label distribution\n",
    "skf = StratifiedKFold(n_splits=5, shuffle=True, random_state=42)\n",
    "\n",
    "cv_scores = cross_val_score(clf, X_full, y_full, cv=skf, scoring='accuracy', n_jobs=-1)\n",
    "\n",
    "print(f\"Cross-validation accuracy scores: {cv_scores}\")\n",
    "print(f\"Mean CV accuracy: {np.mean(cv_scores):.4f}\")\n",
    "print(f\"Standard deviation of CV accuracy: {np.std(cv_scores):.4f}\")\n"
   ]
  },
  {
   "cell_type": "code",
   "execution_count": null,
   "id": "016db3d0-d381-42ba-a893-f28aa793b5a2",
   "metadata": {},
   "outputs": [],
   "source": [
    "print(\"hello\")"
   ]
  },
  {
   "cell_type": "code",
   "execution_count": null,
   "id": "5cec5595-6019-4792-b50a-58637cab86f8",
   "metadata": {},
   "outputs": [],
   "source": []
  }
 ],
 "metadata": {
  "kernelspec": {
   "display_name": "Python 3 (ipykernel)",
   "language": "python",
   "name": "python3"
  },
  "language_info": {
   "codemirror_mode": {
    "name": "ipython",
    "version": 3
   },
   "file_extension": ".py",
   "mimetype": "text/x-python",
   "name": "python",
   "nbconvert_exporter": "python",
   "pygments_lexer": "ipython3",
   "version": "3.13.2"
  }
 },
 "nbformat": 4,
 "nbformat_minor": 5
}
